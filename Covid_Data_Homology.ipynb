{
 "cells": [
  {
   "cell_type": "code",
   "execution_count": 29,
   "id": "ccc68406-21bf-4b30-ae4b-950acc79fbdc",
   "metadata": {},
   "outputs": [],
   "source": [
    "# !pip install matplotlib\n",
    "import matplotlib.pyplot as plt\n",
    "import numpy as np\n",
    "# import diode\n",
    "# import dionysus as d\n",
    "import json\n",
    "import json\n",
    "from numpy.random import choice\n",
    "import csv\n",
    "from datetime import date, timedelta\n",
    "import datetime as dt\n",
    "import matplotlib.dates as mdates\n",
    "from scipy.ndimage.filters import uniform_filter1d\n",
    "import numpy as np\n",
    "import gudhi as gd\n",
    "import gudhi.representations\n",
    "import matplotlib.pyplot as plt\n"
   ]
  },
  {
   "cell_type": "code",
   "execution_count": 30,
   "id": "a0fc883a",
   "metadata": {},
   "outputs": [],
   "source": [
    "def sample_counties(date, x, weighted):\n",
    "    with open('Cases_By_County.json') as fp:\n",
    "        json_data = json.load(fp)\n",
    "\n",
    "        if not json_data.get(date) is None:\n",
    "            countiesData = json_data[date]\n",
    "        else:\n",
    "            return None\n",
    "        cases = []\n",
    "        counties = []\n",
    "\n",
    "        \n",
    "        for key,values in countiesData.items():\n",
    "            counties.append(key)\n",
    "            if not weighted:\n",
    "                cases.append(values[0])\n",
    "            else:\n",
    "                cases.append(values[2])\n",
    "                #print(values[2])\n",
    "\n",
    "        total = sum(cases)\n",
    "        # print(total)\n",
    "        for i in range(len(cases)):\n",
    "            #print(cases[i])\n",
    "            #print(total)\n",
    "            cases[i] = cases[i] / total\n",
    "            #print(cases[i])\n",
    "    \n",
    "\n",
    "        # print(cases)\n",
    "        # for c in counties:\n",
    "        #     cases.append(counties[c])\n",
    "        list_of_counties = choice(counties, x, p= cases,replace=False)\n",
    "\n",
    "        data = []\n",
    "        with open(\"County_Location.csv\", encoding='utf-8-sig') as csvf:\n",
    "            csvReader= csv.DictReader(csvf)\n",
    "            for rows in csvReader:\n",
    "                if rows['County'] in list_of_counties:\n",
    "                    # print (rows)\n",
    "                    data.append([float(rows['X']), float(rows['Y'])])\n",
    "\n",
    "        data = np.asarray(np.stack(data))\n",
    "\n",
    "        return data"
   ]
  },
  {
   "cell_type": "code",
   "execution_count": 37,
   "id": "6a7387aa",
   "metadata": {},
   "outputs": [],
   "source": [
    "\n"
   ]
  },
  {
   "cell_type": "code",
   "execution_count": 32,
   "id": "ba41fe12",
   "metadata": {},
   "outputs": [],
   "source": [
    "def calculate_total_homology(points):\n",
    "    simplices = diode.fill_alpha_shapes(points)\n",
    "    f = d.Filtration(simplices)\n",
    "    m = d.homology_persistence(f)\n",
    "    # for i,c in enumerate(m):\n",
    "    #     print(i, c)\n",
    "\n",
    "    dgms = d.init_diagrams(m, f)\n",
    "    # print(dgms)\n",
    "    zero_total_homology = 0\n",
    "    first_total_homology = 0\n",
    "    for i, dgm in enumerate(dgms):\n",
    "        for pt in dgm:\n",
    "            if i==0 and not pt.death == float(\"inf\"):\n",
    "                zero_total_homology+= ((pt.birth-pt.death)**2)\n",
    "            if i==1:\n",
    "                first_total_homology+= ((pt.birth-pt.death)**2)\n",
    "            # print(i, pt.birth, pt.death)\n",
    "    # print(zero_total_homology)\n",
    "    # print(first_total_homology)\n",
    "    \n",
    "    return zero_total_homology, first_total_homology"
   ]
  },
  {
   "cell_type": "code",
   "execution_count": 36,
   "id": "650ff6fd",
   "metadata": {},
   "outputs": [
    {
     "data": {
      "image/png": "[encoded data removed]",
      "text/plain": [
       "<Figure size 432x288 with 1 Axes>"
      ]
     },
     "metadata": {},
     "output_type": "display_data"
    }
   ],
   "source": [
    "sdate = date(2021, 5, 20)   # start date\n",
    "# sdate = date(2021, 10, 7)   # start date (test)\n",
    "edate = date(2021, 11, 7)   # end date\n",
    "\n",
    "delta = edate - sdate       # as timedelta\n",
    "date_array_unformatted = []\n",
    "zero_array = []\n",
    "first_array = []\n",
    "total_cases_array = []\n",
    "for i in range(delta.days + 1):\n",
    "    day = sdate + timedelta(days=i)\n",
    "    # day = day.strftime(\"%-m/%-d/%Y\")\n",
    "    total_county_sample = 50\n",
    "    \n",
    "    counties = sample_counties(day, total_county_sample, True)\n",
    "    if not counties is None:\n",
    "        date_array_unformatted.append(day)\n",
    "        with open(\"/TABLE_DAILY_CASE&DEATHS_METRICS.csv\", encoding='utf-16') as csvf:\n",
    "            csvReader= csv.DictReader(csvf)\n",
    "            for rows in csvReader:\n",
    "                \n",
    "                if dt.datetime.strptime(rows['Date'], '%m/%d/%y').strftime(\"%-m/%-d/%Y\") == day:\n",
    "                    total_cases_array.append(float(rows['Cases']))\n",
    "    else:\n",
    "        continue\n",
    "    \n",
    "    # print(counties)\n",
    "    zero_total = 0\n",
    "    first_total = 0\n",
    "    total_trials = 30\n",
    "    for j in range(total_trials):\n",
    "        counties = sample_counties(day, total_county_sample, True)\n",
    "        plot_landscapes(counties)\n",
    "        # zero, first = calculate_total_homology(counties)\n",
    "        # zero_total+=zero\n",
    "        # first_total+=first\n",
    "    # zero_array.append(zero_total/total_trials)\n",
    "    # first_array.append(first_total/total_trials)\n",
    "        \n",
    "date_array = [dt.datetime.strptime(d,'%m/%d/%Y').date() for d in date_array_unformatted]\n",
    "plt.gca().xaxis.set_major_formatter(mdates.DateFormatter('%m/%d/%Y'))\n",
    "plt.gca().xaxis.set_major_locator(mdates.DayLocator(interval=5))"
   ]
  },
  {
   "cell_type": "code",
   "execution_count": 34,
   "id": "01fc7a6e",
   "metadata": {},
   "outputs": [],
   "source": [
    "N = len(zero_array)\n",
    "zero_array_filtered = uniform_filter1d(zero_array, size=10)\n",
    "first_array_filtered = uniform_filter1d(first_array, size=10)"
   ]
  },
  {
   "cell_type": "code",
   "execution_count": 35,
   "id": "d56654f8-5e25-4ee1-b163-f9b655e99bb4",
   "metadata": {},
   "outputs": [
    {
     "data": {
      "image/png": "[encoded data removed]",
      "text/plain": [
       "<Figure size 432x288 with 1 Axes>"
      ]
     },
     "metadata": {},
     "output_type": "display_data"
    },
    {
     "data": {
      "image/png": "[encoded data removed]",
      "text/plain": [
       "<Figure size 432x288 with 1 Axes>"
      ]
     },
     "metadata": {},
     "output_type": "display_data"
    },
    {
     "data": {
      "image/png": "[encoded data removed]",
      "text/plain": [
       "<Figure size 432x288 with 1 Axes>"
      ]
     },
     "metadata": {},
     "output_type": "display_data"
    }
   ],
   "source": [
    "plt.style.use('seaborn-ticks')\n",
    "\n",
    "\n",
    "plt.plot(date_array,zero_array)\n",
    "plt.plot(date_array,zero_array_filtered)\n",
    "plt.ylabel(\"Total 0-Homology\")\n",
    "plt.xlabel(\"Dates\")\n",
    "plt.show()\n",
    "\n",
    "plt.plot(date_array,first_array)\n",
    "plt.plot(date_array,first_array_filtered)\n",
    "plt.ylabel(\"Total 1-Homology\")\n",
    "plt.xlabel(\"Dates\")\n",
    "plt.show()\n",
    "\n",
    "plt.plot(date_array,total_cases_array, color = \"green\")\n",
    "plt.ylabel(\"Total Cases\")\n",
    "plt.xlabel(\"Dates\")\n",
    "plt.show()"
   ]
  },
  {
   "cell_type": "code",
   "execution_count": null,
   "id": "4384f500",
   "metadata": {},
   "outputs": [],
   "source": []
  },
  {
   "cell_type": "code",
   "execution_count": null,
   "id": "6f7a5d46",
   "metadata": {},
   "outputs": [],
   "source": []
  },
  {
   "cell_type": "code",
   "execution_count": null,
   "id": "4eba1dad",
   "metadata": {},
   "outputs": [],
   "source": []
  }
 ],
 "metadata": {
  "kernelspec": {
   "display_name": "Python 3 (ipykernel)",
   "language": "python",
   "name": "python3"
  },
  "language_info": {
   "codemirror_mode": {
    "name": "ipython",
    "version": 3
   },
   "file_extension": ".py",
   "mimetype": "text/x-python",
   "name": "python",
   "nbconvert_exporter": "python",
   "pygments_lexer": "ipython3",
   "version": "3.9.1"
  }
 },
 "nbformat": 4,
 "nbformat_minor": 5
}
